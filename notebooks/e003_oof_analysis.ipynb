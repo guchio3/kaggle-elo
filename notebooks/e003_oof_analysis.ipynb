{
 "cells": [
  {
   "cell_type": "code",
   "execution_count": 1,
   "metadata": {},
   "outputs": [],
   "source": [
    "import numpy as np\n",
    "import pandas as pd\n",
    "import pickle \n",
    "from matplotlib import pyplot as plt\n",
    "\n",
    "from sklearn.metrics import mean_squared_error"
   ]
  },
  {
   "cell_type": "code",
   "execution_count": 2,
   "metadata": {},
   "outputs": [],
   "source": [
    "with open('../oofs/e002_2019-02-03-15-07-47_3.653_oofs.pkl', 'rb') as fin:\n",
    "    e002_oof = pickle.load(fin)"
   ]
  },
  {
   "cell_type": "code",
   "execution_count": 3,
   "metadata": {
    "scrolled": true
   },
   "outputs": [
    {
     "name": "stdout",
     "output_type": "stream",
     "text": [
      "442\n",
      "442\n",
      "441\n",
      "441\n",
      "441\n"
     ]
    }
   ],
   "source": [
    "# きちんと stratified されているかを調査\n",
    "outliers = pd.read_pickle('../inputs/train/outliers.pkl.gz')\n",
    "for oof in e002_oof[0]:\n",
    "    print(outliers[oof].sum())"
   ]
  },
  {
   "cell_type": "code",
   "execution_count": 16,
   "metadata": {
    "scrolled": true
   },
   "outputs": [
    {
     "data": {
      "text/plain": [
       "0"
      ]
     },
     "execution_count": 16,
     "metadata": {},
     "output_type": "execute_result"
    }
   ],
   "source": [
    "# oof の切り方が正しいかを調査\n",
    "pd.Series(np.concatenate(e002_oof[0])).duplicated().sum()"
   ]
  },
  {
   "cell_type": "code",
   "execution_count": 10,
   "metadata": {
    "scrolled": true
   },
   "outputs": [
    {
     "data": {
      "text/html": [
       "<div>\n",
       "<style scoped>\n",
       "    .dataframe tbody tr th:only-of-type {\n",
       "        vertical-align: middle;\n",
       "    }\n",
       "\n",
       "    .dataframe tbody tr th {\n",
       "        vertical-align: top;\n",
       "    }\n",
       "\n",
       "    .dataframe thead th {\n",
       "        text-align: right;\n",
       "    }\n",
       "</style>\n",
       "<table border=\"1\" class=\"dataframe\">\n",
       "  <thead>\n",
       "    <tr style=\"text-align: right;\">\n",
       "      <th></th>\n",
       "      <th>idx</th>\n",
       "      <th>y_pred</th>\n",
       "    </tr>\n",
       "  </thead>\n",
       "  <tbody>\n",
       "    <tr>\n",
       "      <th>0</th>\n",
       "      <td>0.0</td>\n",
       "      <td>-0.281701</td>\n",
       "    </tr>\n",
       "    <tr>\n",
       "      <th>1</th>\n",
       "      <td>1.0</td>\n",
       "      <td>-0.306339</td>\n",
       "    </tr>\n",
       "    <tr>\n",
       "      <th>2</th>\n",
       "      <td>2.0</td>\n",
       "      <td>0.414555</td>\n",
       "    </tr>\n",
       "    <tr>\n",
       "      <th>3</th>\n",
       "      <td>3.0</td>\n",
       "      <td>0.101766</td>\n",
       "    </tr>\n",
       "    <tr>\n",
       "      <th>4</th>\n",
       "      <td>4.0</td>\n",
       "      <td>-0.062752</td>\n",
       "    </tr>\n",
       "  </tbody>\n",
       "</table>\n",
       "</div>"
      ],
      "text/plain": [
       "   idx    y_pred\n",
       "0  0.0 -0.281701\n",
       "1  1.0 -0.306339\n",
       "2  2.0  0.414555\n",
       "3  3.0  0.101766\n",
       "4  4.0 -0.062752"
      ]
     },
     "execution_count": 10,
     "metadata": {},
     "output_type": "execute_result"
    }
   ],
   "source": [
    "oof_df = pd.DataFrame(np.array([\n",
    "    np.concatenate(e002_oof[0]),\n",
    "    np.concatenate(e002_oof[1]),\n",
    "]).T, columns=['idx', 'y_pred']\n",
    ").sort_values('idx')\n",
    "oof_df.head()"
   ]
  },
  {
   "cell_type": "code",
   "execution_count": 11,
   "metadata": {},
   "outputs": [
    {
     "name": "stdout",
     "output_type": "stream",
     "text": [
      "RMSE: 3.664, out-RMSE: 30.41, non-RMSE: 1.8312, \n"
     ]
    },
    {
     "data": {
      "text/html": [
       "<div>\n",
       "<style scoped>\n",
       "    .dataframe tbody tr th:only-of-type {\n",
       "        vertical-align: middle;\n",
       "    }\n",
       "\n",
       "    .dataframe tbody tr th {\n",
       "        vertical-align: top;\n",
       "    }\n",
       "\n",
       "    .dataframe thead th {\n",
       "        text-align: right;\n",
       "    }\n",
       "</style>\n",
       "<table border=\"1\" class=\"dataframe\">\n",
       "  <thead>\n",
       "    <tr style=\"text-align: right;\">\n",
       "      <th></th>\n",
       "      <th>idx</th>\n",
       "      <th>y_pred</th>\n",
       "      <th>target</th>\n",
       "      <th>outliers</th>\n",
       "      <th>se</th>\n",
       "    </tr>\n",
       "  </thead>\n",
       "  <tbody>\n",
       "    <tr>\n",
       "      <th>0</th>\n",
       "      <td>0.0</td>\n",
       "      <td>-0.281701</td>\n",
       "      <td>-0.820283</td>\n",
       "      <td>False</td>\n",
       "      <td>0.290070</td>\n",
       "    </tr>\n",
       "    <tr>\n",
       "      <th>1</th>\n",
       "      <td>1.0</td>\n",
       "      <td>-0.306339</td>\n",
       "      <td>0.392913</td>\n",
       "      <td>False</td>\n",
       "      <td>0.488954</td>\n",
       "    </tr>\n",
       "    <tr>\n",
       "      <th>2</th>\n",
       "      <td>2.0</td>\n",
       "      <td>0.414555</td>\n",
       "      <td>0.688056</td>\n",
       "      <td>False</td>\n",
       "      <td>0.074803</td>\n",
       "    </tr>\n",
       "    <tr>\n",
       "      <th>3</th>\n",
       "      <td>3.0</td>\n",
       "      <td>0.101766</td>\n",
       "      <td>0.142495</td>\n",
       "      <td>False</td>\n",
       "      <td>0.001659</td>\n",
       "    </tr>\n",
       "    <tr>\n",
       "      <th>4</th>\n",
       "      <td>4.0</td>\n",
       "      <td>-0.062752</td>\n",
       "      <td>-0.159749</td>\n",
       "      <td>False</td>\n",
       "      <td>0.009408</td>\n",
       "    </tr>\n",
       "  </tbody>\n",
       "</table>\n",
       "</div>"
      ],
      "text/plain": [
       "   idx    y_pred    target  outliers        se\n",
       "0  0.0 -0.281701 -0.820283     False  0.290070\n",
       "1  1.0 -0.306339  0.392913     False  0.488954\n",
       "2  2.0  0.414555  0.688056     False  0.074803\n",
       "3  3.0  0.101766  0.142495     False  0.001659\n",
       "4  4.0 -0.062752 -0.159749     False  0.009408"
      ]
     },
     "execution_count": 11,
     "metadata": {},
     "output_type": "execute_result"
    }
   ],
   "source": [
    "# non-outliers に overfit してる...？\n",
    "oof_df['target'] = pd.read_pickle('../inputs/train/target.pkl.gz')\n",
    "oof_df['outliers'] = pd.read_pickle('../inputs/train/outliers.pkl.gz').astype(bool)\n",
    "oof_df['se'] = (oof_df.y_pred - oof_df.target)**2\n",
    "print(f'RMSE: {np.sqrt(oof_df.se.mean()):.4}, out-RMSE: {np.sqrt(oof_df[oof_df.outliers].se.mean()):.4}, non-RMSE: {np.sqrt(oof_df[~oof_df.outliers].se.mean()):.5}, ')\n",
    "oof_df.head()"
   ]
  },
  {
   "cell_type": "code",
   "execution_count": null,
   "metadata": {},
   "outputs": [],
   "source": []
  },
  {
   "cell_type": "markdown",
   "metadata": {},
   "source": [
    "### best ではどうかを見てみる"
   ]
  },
  {
   "cell_type": "code",
   "execution_count": 4,
   "metadata": {},
   "outputs": [
    {
     "name": "stdout",
     "output_type": "stream",
     "text": [
      "RMSE: 3.684, out-RMSE: 30.63, non-RMSE: 1.8311, \n"
     ]
    },
    {
     "data": {
      "text/html": [
       "<div>\n",
       "<style scoped>\n",
       "    .dataframe tbody tr th:only-of-type {\n",
       "        vertical-align: middle;\n",
       "    }\n",
       "\n",
       "    .dataframe tbody tr th {\n",
       "        vertical-align: top;\n",
       "    }\n",
       "\n",
       "    .dataframe thead th {\n",
       "        text-align: right;\n",
       "    }\n",
       "</style>\n",
       "<table border=\"1\" class=\"dataframe\">\n",
       "  <thead>\n",
       "    <tr style=\"text-align: right;\">\n",
       "      <th></th>\n",
       "      <th>idx</th>\n",
       "      <th>y_pred</th>\n",
       "      <th>target</th>\n",
       "      <th>outliers</th>\n",
       "      <th>se</th>\n",
       "    </tr>\n",
       "  </thead>\n",
       "  <tbody>\n",
       "    <tr>\n",
       "      <th>0</th>\n",
       "      <td>0.0</td>\n",
       "      <td>-0.205042</td>\n",
       "      <td>-0.820283</td>\n",
       "      <td>False</td>\n",
       "      <td>0.378521</td>\n",
       "    </tr>\n",
       "    <tr>\n",
       "      <th>1</th>\n",
       "      <td>1.0</td>\n",
       "      <td>-0.214007</td>\n",
       "      <td>0.392913</td>\n",
       "      <td>False</td>\n",
       "      <td>0.368353</td>\n",
       "    </tr>\n",
       "    <tr>\n",
       "      <th>2</th>\n",
       "      <td>2.0</td>\n",
       "      <td>0.577901</td>\n",
       "      <td>0.688056</td>\n",
       "      <td>False</td>\n",
       "      <td>0.012134</td>\n",
       "    </tr>\n",
       "    <tr>\n",
       "      <th>3</th>\n",
       "      <td>3.0</td>\n",
       "      <td>0.039588</td>\n",
       "      <td>0.142495</td>\n",
       "      <td>False</td>\n",
       "      <td>0.010590</td>\n",
       "    </tr>\n",
       "    <tr>\n",
       "      <th>4</th>\n",
       "      <td>4.0</td>\n",
       "      <td>0.025017</td>\n",
       "      <td>-0.159749</td>\n",
       "      <td>False</td>\n",
       "      <td>0.034139</td>\n",
       "    </tr>\n",
       "  </tbody>\n",
       "</table>\n",
       "</div>"
      ],
      "text/plain": [
       "   idx    y_pred    target  outliers        se\n",
       "0  0.0 -0.205042 -0.820283     False  0.378521\n",
       "1  1.0 -0.214007  0.392913     False  0.368353\n",
       "2  2.0  0.577901  0.688056     False  0.012134\n",
       "3  3.0  0.039588  0.142495     False  0.010590\n",
       "4  4.0  0.025017 -0.159749     False  0.034139"
      ]
     },
     "execution_count": 4,
     "metadata": {},
     "output_type": "execute_result"
    }
   ],
   "source": [
    "# outliers があばれてる...？\n",
    "with open('../oofs/e002_2019-01-22-02-58-36_3.673_oofs.pkl', 'rb') as fin:\n",
    "    best_oof = pickle.load(fin)\n",
    "\n",
    "best_oof_df = pd.DataFrame(np.array([\n",
    "    np.concatenate(best_oof[0]),\n",
    "    np.concatenate(best_oof[1]),\n",
    "]).T, columns=['idx', 'y_pred']\n",
    ").sort_values('idx')\n",
    "best_oof_df.head()\n",
    "\n",
    "best_oof_df['target'] = pd.read_pickle('../inputs/train/target.pkl.gz')\n",
    "best_oof_df['outliers'] = pd.read_pickle('../inputs/train/outliers.pkl.gz').astype(bool)\n",
    "best_oof_df['se'] = (best_oof_df.y_pred - best_oof_df.target)**2\n",
    "print(f'RMSE: {np.sqrt(best_oof_df.se.mean()):.4}, out-RMSE: {np.sqrt(best_oof_df[best_oof_df.outliers].se.mean()):.4}, non-RMSE: {np.sqrt(best_oof_df[~best_oof_df.outliers].se.mean()):.5}, ')\n",
    "best_oof_df.head()"
   ]
  },
  {
   "cell_type": "code",
   "execution_count": 8,
   "metadata": {},
   "outputs": [
    {
     "data": {
      "text/plain": [
       "(2207, 2207)"
      ]
     },
     "execution_count": 8,
     "metadata": {},
     "output_type": "execute_result"
    }
   ],
   "source": [
    "best_oof_df.query('target < -20').idx.count(), best_oof_df.query('target < -30').idx.count()"
   ]
  },
  {
   "cell_type": "code",
   "execution_count": null,
   "metadata": {},
   "outputs": [],
   "source": []
  },
  {
   "cell_type": "markdown",
   "metadata": {},
   "source": [
    "### y_pred の分布を比べてみる"
   ]
  },
  {
   "cell_type": "code",
   "execution_count": 30,
   "metadata": {
    "scrolled": true
   },
   "outputs": [
    {
     "data": {
      "image/png": "[encoded data removed]",
      "text/plain": [
       "<Figure size 432x288 with 1 Axes>"
      ]
     },
     "metadata": {
      "needs_background": "light"
     },
     "output_type": "display_data"
    },
    {
     "data": {
      "image/png": "[encoded data removed]",
      "text/plain": [
       "<Figure size 432x288 with 1 Axes>"
      ]
     },
     "metadata": {
      "needs_background": "light"
     },
     "output_type": "display_data"
    },
    {
     "data": {
      "image/png": "[encoded data removed]",
      "text/plain": [
       "<Figure size 432x288 with 1 Axes>"
      ]
     },
     "metadata": {
      "needs_background": "light"
     },
     "output_type": "display_data"
    },
    {
     "data": {
      "image/png": "[encoded data removed]",
      "text/plain": [
       "<Figure size 432x288 with 1 Axes>"
      ]
     },
     "metadata": {
      "needs_background": "light"
     },
     "output_type": "display_data"
    }
   ],
   "source": [
    "oof_df.y_pred.hist(bins=50)\n",
    "plt.xlim(-20, 10)\n",
    "plt.show()\n",
    "best_oof_df.y_pred.hist(bins=50), \n",
    "plt.xlim(-20, 10)\n",
    "plt.show()\n",
    "\n",
    "oof_df.query('target < -5').y_pred.hist(bins=50, alpha=0.5)\n",
    "oof_df.query('target < -5').target.hist(bins=50, alpha=0.5)\n",
    "plt.xlim(-35, 5)\n",
    "plt.show()\n",
    "best_oof_df.query('target < -5').y_pred.hist(bins=50, alpha=0.5), \n",
    "best_oof_df.query('target < -5').target.hist(bins=50, alpha=0.5), \n",
    "plt.xlim(-35, 5)\n",
    "plt.show()"
   ]
  },
  {
   "cell_type": "code",
   "execution_count": 32,
   "metadata": {},
   "outputs": [
    {
     "data": {
      "text/plain": [
       "(2114, 2005)"
      ]
     },
     "execution_count": 32,
     "metadata": {},
     "output_type": "execute_result"
    }
   ],
   "source": [
    "oof_df.query('y_pred < -5').y_pred.count(), best_oof_df.query('y_pred < -5').y_pred.count()"
   ]
  },
  {
   "cell_type": "code",
   "execution_count": 33,
   "metadata": {},
   "outputs": [
    {
     "data": {
      "text/plain": [
       "(238, 295)"
      ]
     },
     "execution_count": 33,
     "metadata": {},
     "output_type": "execute_result"
    }
   ],
   "source": [
    "best_oof_df.query('y_pred < -10').y_pred.count(), oof_df.query('y_pred < -10').y_pred.count()"
   ]
  },
  {
   "cell_type": "code",
   "execution_count": 34,
   "metadata": {},
   "outputs": [
    {
     "data": {
      "text/plain": [
       "(-18.753209861916492, -18.586921078539334)"
      ]
     },
     "execution_count": 34,
     "metadata": {},
     "output_type": "execute_result"
    }
   ],
   "source": [
    "best_oof_df.y_pred.min(), oof_df.y_pred.min()"
   ]
  },
  {
   "cell_type": "code",
   "execution_count": null,
   "metadata": {},
   "outputs": [],
   "source": []
  },
  {
   "cell_type": "markdown",
   "metadata": {},
   "source": [
    "### submission を比べてみる"
   ]
  },
  {
   "cell_type": "code",
   "execution_count": 3,
   "metadata": {},
   "outputs": [],
   "source": [
    "best_sub = pd.read_csv('../submissions/e002_2019-01-22-02-58-36_3.673_sub.csv.gz')\n",
    "latest_sub = pd.read_csv('../submissions/e002_2019-02-03-15-07-47_3.653_sub.csv.gz')"
   ]
  },
  {
   "cell_type": "code",
   "execution_count": 59,
   "metadata": {
    "scrolled": true
   },
   "outputs": [
    {
     "data": {
      "image/png": "[encoded data removed]",
      "text/plain": [
       "<Figure size 432x288 with 1 Axes>"
      ]
     },
     "metadata": {
      "needs_background": "light"
     },
     "output_type": "display_data"
    },
    {
     "data": {
      "image/png": "[encoded data removed]",
      "text/plain": [
       "<Figure size 432x288 with 1 Axes>"
      ]
     },
     "metadata": {
      "needs_background": "light"
     },
     "output_type": "display_data"
    }
   ],
   "source": [
    "# パット見は変わってない\n",
    "best_sub.target.hist(bins=50)\n",
    "plt.xlim(-20, 5)\n",
    "plt.show()\n",
    "latest_sub.target.hist(bins=50), \n",
    "plt.xlim(-20, 5)\n",
    "plt.show()"
   ]
  },
  {
   "cell_type": "code",
   "execution_count": 61,
   "metadata": {},
   "outputs": [
    {
     "data": {
      "image/png": "[encoded data removed]",
      "text/plain": [
       "<Figure size 432x288 with 1 Axes>"
      ]
     },
     "metadata": {
      "needs_background": "light"
     },
     "output_type": "display_data"
    },
    {
     "data": {
      "image/png": "[encoded data removed]",
      "text/plain": [
       "<Figure size 432x288 with 1 Axes>"
      ]
     },
     "metadata": {
      "needs_background": "light"
     },
     "output_type": "display_data"
    }
   ],
   "source": [
    "# best の方が outlier ぽいって認識しがち...？\n",
    "best_sub.query('target < -5').target.hist(bins=50)\n",
    "plt.xlim(-20, 5)\n",
    "plt.show()\n",
    "latest_sub.query('target < -5').target.hist(bins=50), \n",
    "plt.xlim(-20, 5)\n",
    "plt.show()"
   ]
  },
  {
   "cell_type": "code",
   "execution_count": 8,
   "metadata": {
    "scrolled": true
   },
   "outputs": [
    {
     "data": {
      "text/plain": [
       "array([[1.        , 0.85830684],\n",
       "       [0.85830684, 1.        ]])"
      ]
     },
     "execution_count": 8,
     "metadata": {},
     "output_type": "execute_result"
    }
   ],
   "source": [
    "import seaborn as sns\n",
    "np.corrcoef(best_sub.target, latest_sub.target)"
   ]
  },
  {
   "cell_type": "code",
   "execution_count": 31,
   "metadata": {},
   "outputs": [
    {
     "data": {
      "text/plain": [
       "(1152, 518)"
      ]
     },
     "execution_count": 31,
     "metadata": {},
     "output_type": "execute_result"
    }
   ],
   "source": [
    "best_sub.query('target < -5').target.count(), latest_sub.query('target < -5').target.count(), "
   ]
  },
  {
   "cell_type": "code",
   "execution_count": 36,
   "metadata": {},
   "outputs": [
    {
     "data": {
      "text/plain": [
       "(-16.37372472497683, -15.222742989601786)"
      ]
     },
     "execution_count": 36,
     "metadata": {},
     "output_type": "execute_result"
    }
   ],
   "source": [
    "best_sub.target.min(), latest_sub.target.min(), "
   ]
  },
  {
   "cell_type": "code",
   "execution_count": null,
   "metadata": {},
   "outputs": [],
   "source": []
  },
  {
   "cell_type": "code",
   "execution_count": null,
   "metadata": {},
   "outputs": [],
   "source": []
  },
  {
   "cell_type": "markdown",
   "metadata": {},
   "source": [
    "## train と test の features を比較"
   ]
  },
  {
   "cell_type": "code",
   "execution_count": null,
   "metadata": {},
   "outputs": [],
   "source": []
  }
 ],
 "metadata": {
  "kernelspec": {
   "display_name": "Python 3",
   "language": "python",
   "name": "python3"
  },
  "language_info": {
   "codemirror_mode": {
    "name": "ipython",
    "version": 3
   },
   "file_extension": ".py",
   "mimetype": "text/x-python",
   "name": "python",
   "nbconvert_exporter": "python",
   "pygments_lexer": "ipython3",
   "version": "3.7.1"
  }
 },
 "nbformat": 4,
 "nbformat_minor": 2
}
